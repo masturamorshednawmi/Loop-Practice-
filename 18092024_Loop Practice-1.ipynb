{
 "cells": [
  {
   "cell_type": "code",
   "execution_count": 22,
   "id": "50d9e165-e7ad-48c1-954b-5586f9b2da44",
   "metadata": {},
   "outputs": [
    {
     "name": "stdout",
     "output_type": "stream",
     "text": [
      "Number= 10\n",
      "Divisible by either 2 or 3\n"
     ]
    }
   ],
   "source": [
    "num=10\n",
    "print(\"Number=\",num)\n",
    "if num%2==0 and num%3==0:\n",
    "    print(\"Divisible by 2 and 3\")\n",
    "elif num%2==0 or num%3==0:\n",
    "        print(\"Divisible by either 2 or 3\")\n",
    "    "
   ]
  },
  {
   "cell_type": "markdown",
   "id": "65c69f36-c540-4222-a989-ca773895f43d",
   "metadata": {},
   "source": [
    "num = 8\r\n",
    "divisible by 2 not divisible by 3\r\n",
    "num = 15\r\n",
    "divisible by 3 not divisible by 2\r\n",
    "num = 12\r\n",
    "Divisible by 3 and 2\r\n",
    "num = 5\r\n",
    "not Divisible by 2 not divisible by 3"
   ]
  },
  {
   "cell_type": "code",
   "execution_count": 25,
   "id": "6570b663-e9c5-4b42-8557-6159a662b083",
   "metadata": {},
   "outputs": [],
   "source": [
    "def divisible_or_not(num):\n",
    "    print(\"Number=\",num)\n",
    "    if num%2==0 and num%3==0:\n",
    "        Divisibility=\"Divisible by 2 and 3\"\n",
    "    else:\n",
    "        if num%2==0:\n",
    "            Divisibility=\"Divisible by 2 and not 3\"\n",
    "        else:\n",
    "            if num%3==0:\n",
    "                Divisibility=\"Divisible by 3 and not 2\"\n",
    "    return(Divisibility)"
   ]
  },
  {
   "cell_type": "code",
   "execution_count": 28,
   "id": "e607b3f7-8782-437f-954e-5022d6802b92",
   "metadata": {},
   "outputs": [
    {
     "name": "stdout",
     "output_type": "stream",
     "text": [
      "Number= 10\n",
      "Number= 3\n",
      "Number= 6\n"
     ]
    },
    {
     "data": {
      "text/plain": [
       "'Divisible by 2 and 3'"
      ]
     },
     "execution_count": 28,
     "metadata": {},
     "output_type": "execute_result"
    }
   ],
   "source": [
    "divisible_or_not(10)\n",
    "divisible_or_not(3)\n",
    "divisible_or_not(6)"
   ]
  },
  {
   "cell_type": "code",
   "execution_count": 18,
   "id": "1d0c0dcb-3474-4167-9f4e-3e31743c8987",
   "metadata": {},
   "outputs": [
    {
     "name": "stdout",
     "output_type": "stream",
     "text": [
      "num =  10\n",
      "divisible by 2 not divisible by 3\n"
     ]
    }
   ],
   "source": [
    "num=10\n",
    "print (\"num = \",num)\n",
    "if num%2==0:\n",
    "   if num%3==0:\n",
    "      print (\"Divisible by 3 and 2\")\n",
    "   else:\n",
    "      print (\"divisible by 2 not divisible by 3\")\n",
    "else:\n",
    "   if num%3==0:\n",
    "      print (\"divisible by 3 not divisible by 2\")\n",
    "   else:\n",
    "      print (\"not Divisible by 2 not divisible by 3\")"
   ]
  },
  {
   "cell_type": "markdown",
   "id": "62f0c3e1-8201-4e0d-a0cd-a013b4aaf126",
   "metadata": {},
   "source": [
    "#**The following example illustrates the combination of an else statement with a for statement that searches for prime numbers from 10 to 20.**"
   ]
  },
  {
   "cell_type": "code",
   "execution_count": 40,
   "id": "7bf7c810-d254-4529-8239-377aa4a7e79a",
   "metadata": {},
   "outputs": [],
   "source": [
    "def find_prime_numbers(ran):\n",
    "    prime_numbers_in_range=[]\n",
    "    for num in range(ran):\n",
    "        if num%2==0:\n",
    "            prime_numbers_in_range.append(num)\n",
    "    return(prime_numbers_in_range)"
   ]
  },
  {
   "cell_type": "code",
   "execution_count": 41,
   "id": "60929bed-49d3-48fa-b30a-631e836c6da2",
   "metadata": {},
   "outputs": [
    {
     "data": {
      "text/plain": [
       "[0, 2, 4, 6, 8]"
      ]
     },
     "execution_count": 41,
     "metadata": {},
     "output_type": "execute_result"
    }
   ],
   "source": [
    "find_prime_numbers(10)"
   ]
  },
  {
   "cell_type": "markdown",
   "id": "d6a86c2a-9b8e-4784-9bbc-fb7a3c1e6c92",
   "metadata": {},
   "source": [
    "# Creating a function to check whether the list item is a positive or a negative number"
   ]
  },
  {
   "cell_type": "code",
   "execution_count": 92,
   "id": "8c9c564a-b62d-4f44-9c37-e4ce06455c46",
   "metadata": {},
   "outputs": [
    {
     "name": "stdout",
     "output_type": "stream",
     "text": [
      "positive\n",
      "negative\n",
      "positive\n"
     ]
    }
   ],
   "source": [
    "Jane=[1,-2,3]\n",
    "Jane_is=\"\"\n",
    "for num in Jane:\n",
    "    if num>=0:\n",
    "        Jane_is=print(\"positive\")\n",
    "    else:\n",
    "        Jane_is=print(\"negative\")\n",
    "    \n"
   ]
  },
  {
   "cell_type": "code",
   "execution_count": 80,
   "id": "86e8af62-3898-46fc-b910-0f5162ff17e2",
   "metadata": {},
   "outputs": [],
   "source": [
    "def positive_or_negative(x):\n",
    "    Jane=[]\n",
    "    Jane.append(x)\n",
    "    for num in Jane:\n",
    "        if num>=0:\n",
    "            Jane_is=\"positive\"\n",
    "        else:\n",
    "            Jane_is=\"negative\"\n",
    "    print(Jane)\n",
    "    return(Jane_is)\n",
    "         "
   ]
  },
  {
   "cell_type": "code",
   "execution_count": 85,
   "id": "2c6f46e5-49ca-4f36-9d79-2b2a89ed21f7",
   "metadata": {},
   "outputs": [
    {
     "name": "stdout",
     "output_type": "stream",
     "text": [
      "[1]\n"
     ]
    },
    {
     "data": {
      "text/plain": [
       "'positive'"
      ]
     },
     "execution_count": 85,
     "metadata": {},
     "output_type": "execute_result"
    }
   ],
   "source": [
    "positive_or_negative(1)"
   ]
  },
  {
   "cell_type": "code",
   "execution_count": 100,
   "id": "3beb5ccc-03a9-4e16-952b-daa593f52d81",
   "metadata": {},
   "outputs": [],
   "source": [
    "def positive_or_negative(a, b, c, d, e):\n",
    "    Jane=[a,b,c,d,e]\n",
    "    for num in Jane:\n",
    "        if num>=0:\n",
    "            Jane_is=\"positive\"\n",
    "            print(Jane_is)\n",
    "        else:\n",
    "            Jane_is=\"negative\"\n",
    "            print(Jane_is)\n",
    "    "
   ]
  },
  {
   "cell_type": "code",
   "execution_count": 102,
   "id": "748338b0-948e-409d-a9ab-8f57dd040dc9",
   "metadata": {},
   "outputs": [
    {
     "name": "stdout",
     "output_type": "stream",
     "text": [
      "positive\n",
      "positive\n",
      "positive\n",
      "positive\n",
      "negative\n"
     ]
    }
   ],
   "source": [
    "positive_or_negative(1, 2, 3, 4,-5)"
   ]
  },
  {
   "cell_type": "code",
   "execution_count": 109,
   "id": "4d781cd7-ee14-4e0e-93f5-16006aefdd3c",
   "metadata": {},
   "outputs": [],
   "source": [
    "def positive_or_negative(Jane):\n",
    "    Jane_is=[]\n",
    "    for num in Jane:\n",
    "        if num>=0:\n",
    "            Jane_is=\"positive\"\n",
    "            print(Jane_is)\n",
    "        else:\n",
    "            Jane_is=\"negative\"\n",
    "            print(Jane_is)"
   ]
  },
  {
   "cell_type": "code",
   "execution_count": 110,
   "id": "f5b61e0b-b357-49b7-bbfd-3c1c13b79de6",
   "metadata": {},
   "outputs": [
    {
     "name": "stdout",
     "output_type": "stream",
     "text": [
      "positive\n",
      "positive\n",
      "positive\n",
      "positive\n",
      "positive\n"
     ]
    }
   ],
   "source": [
    "positive_or_negative([1,2,3,4,5])"
   ]
  },
  {
   "cell_type": "markdown",
   "id": "9e531a18-af1f-4fb1-8c2e-9ff8f4d929da",
   "metadata": {},
   "source": [
    "#**Square the elements in a list:**"
   ]
  },
  {
   "cell_type": "code",
   "execution_count": 10,
   "id": "5418fb5b-6c95-413f-a9b6-e4e55b6919e8",
   "metadata": {},
   "outputs": [],
   "source": [
    "def square_elements(input_lists):\n",
    "    output_lists=[]\n",
    "    for elements in input_lists:\n",
    "        new_element=elements*elements\n",
    "        output_lists.append(new_element)\n",
    "        print(\"Input_list=\",input_lists) \n",
    "        print(\"Squared Element=\",new_element)\n",
    "        print(\"This is included in the output list=\",output_lists)\n",
    "    return(\"Final List=\",output_lists)"
   ]
  },
  {
   "cell_type": "code",
   "execution_count": 11,
   "id": "d4d81717-f54d-4bbe-9b00-f475ea1c96d1",
   "metadata": {},
   "outputs": [
    {
     "name": "stdout",
     "output_type": "stream",
     "text": [
      "Input_list= [1, 2, 3, 4, 5]\n",
      "Squared Element= 1\n",
      "This is included in the output list= [1]\n",
      "Input_list= [1, 2, 3, 4, 5]\n",
      "Squared Element= 4\n",
      "This is included in the output list= [1, 4]\n",
      "Input_list= [1, 2, 3, 4, 5]\n",
      "Squared Element= 9\n",
      "This is included in the output list= [1, 4, 9]\n",
      "Input_list= [1, 2, 3, 4, 5]\n",
      "Squared Element= 16\n",
      "This is included in the output list= [1, 4, 9, 16]\n",
      "Input_list= [1, 2, 3, 4, 5]\n",
      "Squared Element= 25\n",
      "This is included in the output list= [1, 4, 9, 16, 25]\n"
     ]
    },
    {
     "data": {
      "text/plain": [
       "('Final List=', [1, 4, 9, 16, 25])"
      ]
     },
     "execution_count": 11,
     "metadata": {},
     "output_type": "execute_result"
    }
   ],
   "source": [
    "square_elements([1,2,3,4,5])"
   ]
  },
  {
   "cell_type": "markdown",
   "id": "aac4878e-5e2d-4daf-bbe9-7aac8e46bca2",
   "metadata": {},
   "source": [
    "#**the iteration run till value of count will become 5.**"
   ]
  },
  {
   "cell_type": "code",
   "execution_count": 13,
   "id": "a6e31eb2-1f18-45de-82d5-cb2f14bae6e3",
   "metadata": {},
   "outputs": [],
   "source": [
    "def iterate(count):\n",
    "    while count<=5:\n",
    "        print(\"Iteration number=\",count)\n",
    "        count=count+1\n",
    "        \n",
    "        "
   ]
  },
  {
   "cell_type": "code",
   "execution_count": 14,
   "id": "da66068c-b2c4-4c1a-aa0a-b506851d1c81",
   "metadata": {},
   "outputs": [
    {
     "name": "stdout",
     "output_type": "stream",
     "text": [
      "Iteration number= -1\n",
      "Iteration number= 0\n",
      "Iteration number= 1\n",
      "Iteration number= 2\n",
      "Iteration number= 3\n",
      "Iteration number= 4\n",
      "Iteration number= 5\n"
     ]
    }
   ],
   "source": [
    "iterate(-1)"
   ]
  },
  {
   "cell_type": "code",
   "execution_count": null,
   "id": "be2829c1-b5fc-4028-979e-0dcad13608fa",
   "metadata": {},
   "outputs": [],
   "source": [
    "def iterate(count):\n",
    "    while count<=5:\n",
    "        count=count+1\n",
    "        print(\"Iteration number=\",count)\n",
    "        "
   ]
  },
  {
   "cell_type": "code",
   "execution_count": 15,
   "id": "14bdb521-0e2a-4b14-a1fd-c7e935a04673",
   "metadata": {},
   "outputs": [
    {
     "name": "stdout",
     "output_type": "stream",
     "text": [
      "Iteration number= -1\n",
      "Iteration number= 0\n",
      "Iteration number= 1\n",
      "Iteration number= 2\n",
      "Iteration number= 3\n",
      "Iteration number= 4\n",
      "Iteration number= 5\n"
     ]
    }
   ],
   "source": [
    "iterate(-1)"
   ]
  },
  {
   "cell_type": "markdown",
   "id": "74afddeb-d238-481a-be42-b9233438a10a",
   "metadata": {},
   "source": [
    "#Construction of an infinite while loop"
   ]
  },
  {
   "cell_type": "markdown",
   "id": "3de00f0b-d021-44ae-a784-2dd84b3d2150",
   "metadata": {},
   "source": [
    "#Till the count is less than 5, the iteration count is printed. As it becomes 5, the print statement in else block is executed, before the control is passed to the next statement in the main program."
   ]
  },
  {
   "cell_type": "markdown",
   "id": "f8e59922-6a05-46b5-8a58-270546eb20aa",
   "metadata": {},
   "source": [
    "#The following program demonstrates the use of break in a for loop iterating over a list. Here, the specified number will be searched in the list. If it is found, then the loop terminates with the \"found\" message."
   ]
  },
  {
   "cell_type": "code",
   "execution_count": 15,
   "id": "99e9abe5-c323-43d7-ba0b-f02338b8f70a",
   "metadata": {},
   "outputs": [],
   "source": [
    "def find_this_number(input):\n",
    "    checklist=[1,2,3,4,5,6,7,8,9,0,10,11,22,33,44,55,66,77]\n",
    "    print(\"You entered:\",input)\n",
    "    for numbers in checklist:\n",
    "        if numbers==input:\n",
    "            Selection=\"You are selected!\"\n",
    "            break\n",
    "        else:\n",
    "            Selection=\"We are extremely sorry\"\n",
    "    return(print(Selection))"
   ]
  },
  {
   "cell_type": "code",
   "execution_count": 16,
   "id": "3fb88023-caf3-4af4-bce0-aec544e91fe2",
   "metadata": {},
   "outputs": [
    {
     "name": "stdout",
     "output_type": "stream",
     "text": [
      "You entered: 10\n",
      "You are selected!\n",
      "You entered: 100\n",
      "We are extremely sorry\n"
     ]
    }
   ],
   "source": [
    "find_this_number(10)\n",
    "find_this_number(100)"
   ]
  },
  {
   "cell_type": "code",
   "execution_count": 25,
   "id": "11a39f1c-cff0-4413-aeed-da9afb3b5814",
   "metadata": {},
   "outputs": [
    {
     "name": "stdout",
     "output_type": "stream",
     "text": [
      "True\n"
     ]
    }
   ],
   "source": [
    "word1 = [\"ab\", \"c\"]\n",
    "newword1=[]\n",
    "word2 = [\"a\", \"bc\"]\n",
    "newword2=[]\n",
    "newword1.append(\"\".join(word1))\n",
    "newword2.append(\"\".join(word2))\n",
    "if newword1==newword2:\n",
    "    Answer=\"True\"\n",
    "else:\n",
    "    Answer=\"False\"\n",
    "print(Answer)"
   ]
  },
  {
   "cell_type": "code",
   "execution_count": 32,
   "id": "8ebffed5-e3da-498c-aff2-ef5e165daead",
   "metadata": {},
   "outputs": [],
   "source": [
    "def Are_strings_the_same(word1,word2):\n",
    "    newword1=[]\n",
    "    newword1.append(\"\".join(word1))\n",
    "    newword2=[]\n",
    "    newword2.append(\"\".join(word2))\n",
    "    if newword1==newword2:\n",
    "        Answer=\"True\"\n",
    "    else:\n",
    "        Answer=\"False\"\n",
    "    return(Answer)"
   ]
  },
  {
   "cell_type": "code",
   "execution_count": 36,
   "id": "62d94465-3d4f-4fa8-8362-3d0f277d90af",
   "metadata": {},
   "outputs": [
    {
     "data": {
      "text/plain": [
       "'True'"
      ]
     },
     "execution_count": 36,
     "metadata": {},
     "output_type": "execute_result"
    }
   ],
   "source": [
    "Are_strings_the_same([\"ab\", \"c\"], [\"a\", \"bc\"])"
   ]
  },
  {
   "cell_type": "code",
   "execution_count": 37,
   "id": "e2bafd28-7bf8-492c-8bc0-bf74360cdf3a",
   "metadata": {},
   "outputs": [
    {
     "data": {
      "text/plain": [
       "'False'"
      ]
     },
     "execution_count": 37,
     "metadata": {},
     "output_type": "execute_result"
    }
   ],
   "source": [
    "Are_strings_the_same([\"a\", \"cb\"], [\"ab\", \"c\"])"
   ]
  },
  {
   "cell_type": "code",
   "execution_count": 38,
   "id": "9a4a90fe-8e87-4943-a697-dd80be180457",
   "metadata": {},
   "outputs": [
    {
     "data": {
      "text/plain": [
       "'True'"
      ]
     },
     "execution_count": 38,
     "metadata": {},
     "output_type": "execute_result"
    }
   ],
   "source": [
    "Are_strings_the_same([\"abc\", \"d\", \"defg\"], [\"abcddefg\"])"
   ]
  },
  {
   "cell_type": "markdown",
   "id": "3712d9f9-67c5-44c0-949d-da90ab5f2fe8",
   "metadata": {},
   "source": [
    "Given an integer array nums, find three numbers whose product is maximum and return the maximum product.\n",
    "\n",
    "Example 1:\n",
    "\n",
    "Input: nums = [1,2,3]\n",
    "Output: 6\n",
    "Example 2:\n",
    "\n",
    "Input: nums = [1,2,3,4]\n",
    "Output: 24\n",
    "Example 3:\n",
    "\n",
    "Input: nums = [-1,-2,-3]\n",
    "Output: -6"
   ]
  },
  {
   "cell_type": "code",
   "execution_count": 25,
   "id": "15ddba30-27e6-413d-b107-317f1fcedf8a",
   "metadata": {},
   "outputs": [],
   "source": [
    "def max_product(List):\n",
    "    \n",
    "    List.sort(reverse=True)\n",
    "    print(List)\n",
    "    return max(List[0]*List[1]*List[2],List[0]*List[-1]*List[-2])\n",
    "    \n",
    "\n",
    "    "
   ]
  },
  {
   "cell_type": "code",
   "execution_count": 26,
   "id": "0861ee19-9d80-46f2-9a0d-08c4abb4c896",
   "metadata": {},
   "outputs": [
    {
     "name": "stdout",
     "output_type": "stream",
     "text": [
      "[4, 3, 2, -1, -98, -100]\n"
     ]
    },
    {
     "data": {
      "text/plain": [
       "39200"
      ]
     },
     "execution_count": 26,
     "metadata": {},
     "output_type": "execute_result"
    }
   ],
   "source": [
    "max_product([-100,-98,-1,2,3,4])"
   ]
  },
  {
   "cell_type": "code",
   "execution_count": 15,
   "id": "b1ff1f6d-08c0-41b0-bb74-32a75622bfd5",
   "metadata": {},
   "outputs": [
    {
     "name": "stdout",
     "output_type": "stream",
     "text": [
      "['f', 'ab', 'cd', 'de', 'ghe']\n"
     ]
    }
   ],
   "source": [
    "list=['ab','cd','de','f','ghe']\n",
    "list.sort(key=len)\n",
    "print(list)"
   ]
  },
  {
   "cell_type": "markdown",
   "id": "4bdfa292-c42f-4a99-aa5c-608e606fcf86",
   "metadata": {},
   "source": [
    "You are given an m x n integer grid accounts where accounts[i][j] is the amount of money the i​​​​​​​​​​​th​​​​ customer has in the j​​​​​​​​​​​th​​​​ bank. Return the wealth that the richest customer has.\n",
    "\n",
    "A customer's wealth is the amount of money they have in all their bank accounts. The richest customer is the customer that has the maximum wealth.\n",
    "\n",
    " \n",
    "\n",
    "Example 1:\n",
    "\n",
    "Input: accounts = [[1,2,3],[3,2,1]]\n",
    "Output: 6\n",
    "Explanation:\n",
    "1st customer has wealth = 1 + 2 + 3 = 6\n",
    "2nd customer has wealth = 3 + 2 + 1 = 6\n",
    "Both customers are considered the richest with a wealth of 6 each, so return 6.\n",
    "Example 2:\n",
    "\n",
    "Input: accounts = [[1,5],[7,3],[3,5]]\n",
    "Output: 10\n",
    "Explanation: \n",
    "1st customer has wealth = 6\n",
    "2nd customer has wealth = 10 \n",
    "3rd customer has wealth = 8\n",
    "The 2nd customer is the richest with a wealth of 10.\n",
    "Example 3:\n",
    "\n",
    "Input: accounts = [[2,8,7],[7,1,3],[1,9,5]]\n",
    "Output: 17"
   ]
  },
  {
   "cell_type": "code",
   "execution_count": 59,
   "id": "1c4e53ba-7c5b-47ad-a9db-5a3b0b2f1c73",
   "metadata": {},
   "outputs": [
    {
     "ename": "TypeError",
     "evalue": "'int' object is not iterable",
     "output_type": "error",
     "traceback": [
      "\u001b[1;31m---------------------------------------------------------------------------\u001b[0m",
      "\u001b[1;31mTypeError\u001b[0m                                 Traceback (most recent call last)",
      "Cell \u001b[1;32mIn[59], line 3\u001b[0m\n\u001b[0;32m      1\u001b[0m accounts \u001b[38;5;241m=\u001b[39m [[\u001b[38;5;241m1\u001b[39m,\u001b[38;5;241m2\u001b[39m,\u001b[38;5;241m3\u001b[39m],[\u001b[38;5;241m3\u001b[39m,\u001b[38;5;241m2\u001b[39m,\u001b[38;5;241m1\u001b[39m]]\n\u001b[0;32m      2\u001b[0m \u001b[38;5;28;01mfor\u001b[39;00m acc \u001b[38;5;129;01min\u001b[39;00m accounts:\n\u001b[1;32m----> 3\u001b[0m     nawmi\u001b[38;5;241m=\u001b[39m(\u001b[38;5;28mmax\u001b[39m(\u001b[38;5;28msum\u001b[39m(acc)))\n\u001b[0;32m      4\u001b[0m \u001b[38;5;28mprint\u001b[39m(nawmi)\n",
      "\u001b[1;31mTypeError\u001b[0m: 'int' object is not iterable"
     ]
    }
   ],
   "source": [
    "accounts = [[1,2,3],[3,2,1]]\n",
    "for acc in accounts:\n",
    "    nawmi=(max(sum(acc)))\n",
    "print(nawmi)"
   ]
  },
  {
   "cell_type": "code",
   "execution_count": null,
   "id": "40498882-009f-46ec-8c6b-fd01d70ec46f",
   "metadata": {},
   "outputs": [],
   "source": []
  }
 ],
 "metadata": {
  "kernelspec": {
   "display_name": "Python 3 (ipykernel)",
   "language": "python",
   "name": "python3"
  },
  "language_info": {
   "codemirror_mode": {
    "name": "ipython",
    "version": 3
   },
   "file_extension": ".py",
   "mimetype": "text/x-python",
   "name": "python",
   "nbconvert_exporter": "python",
   "pygments_lexer": "ipython3",
   "version": "3.12.4"
  }
 },
 "nbformat": 4,
 "nbformat_minor": 5
}
